{
 "cells": [
  {
   "cell_type": "code",
   "execution_count": 1,
   "metadata": {},
   "outputs": [],
   "source": [
    "import requests\n",
    "from requests import get\n",
    "from bs4 import BeautifulSoup\n",
    "import numpy as np\n",
    "import re\n",
    "import pandas as pd\n",
    "from time import sleep\n",
    "from random import randint"
   ]
  },
  {
   "cell_type": "code",
   "execution_count": 79,
   "metadata": {},
   "outputs": [],
   "source": [
    "# url = \"https://www.imdb.com/search/title/?groups=top_1000\"\n",
    "# imdbid = str(3521164)\n",
    "# imdbid = str(7054868)\n",
    "imdbid = str(2294629)\n",
    "url = \"https://www.imdb.com/title/tt\"+ imdbid + \"/?ref_=fn_al_tt_2\"\n",
    "\n",
    "headers = {\"User-Agent\": \"Mozilla/5.0 (Windows NT 10.0; Win64; x64) AppleWebKit/537.36 (KHTML, like Gecko) Chrome/112.0.0.0 Safari/537.36\"}\n",
    "res = requests.get(url,headers=headers)\n",
    "soup = BeautifulSoup(res.text, \"html.parser\")"
   ]
  },
  {
   "cell_type": "code",
   "execution_count": 31,
   "metadata": {},
   "outputs": [],
   "source": [
    "# 데이터 변수 리스트 생성\n",
    "imdbid = []\n",
    "titles = []\n",
    "years = []\n",
    "imdb_ratings =[]\n",
    "budget_estimated = []\n",
    "us_gross = []\n"
   ]
  },
  {
   "cell_type": "code",
   "execution_count": 80,
   "metadata": {},
   "outputs": [],
   "source": [
    "movie_div = soup.find_all('div', class_=\"ipc-page-content-container ipc-page-content-container--full sc-4f91839f-0 hmcKDt\")"
   ]
  },
  {
   "cell_type": "code",
   "execution_count": 87,
   "metadata": {},
   "outputs": [
    {
     "name": "stdout",
     "output_type": "stream",
     "text": [
      "[<span class=\"sc-afe43def-1 fDTGTb\">Gyeowool Wangguk</span>]\n"
     ]
    }
   ],
   "source": [
    "# title\n",
    "for con in movie_div:\n",
    "    title = con.find_all('span', class_=\"sc-afe43def-1 fDTGTb\")\n",
    "    print(title)"
   ]
  },
  {
   "cell_type": "code",
   "execution_count": null,
   "metadata": {},
   "outputs": [],
   "source": [
    "# imdbid\n",
    "# bechdel에서 가져오기"
   ]
  },
  {
   "cell_type": "code",
   "execution_count": 82,
   "metadata": {},
   "outputs": [
    {
     "name": "stdout",
     "output_type": "stream",
     "text": [
      "2013\n"
     ]
    }
   ],
   "source": [
    "# year\n",
    "for con in movie_div:\n",
    "    year = con.find('a', href= \"/title/tt\" + imdbid + \"/releaseinfo?ref_=tt_ov_rdat\").text\n",
    "    print(year)"
   ]
  },
  {
   "cell_type": "code",
   "execution_count": 83,
   "metadata": {},
   "outputs": [
    {
     "name": "stdout",
     "output_type": "stream",
     "text": [
      "7.4\n"
     ]
    }
   ],
   "source": [
    "# imdb_rating\n",
    "for con in movie_div:\n",
    "    imdb_rating = con.find('span', class_= \"sc-bde20123-1 iZlgcd\").text\n",
    "    print(imdb_rating)"
   ]
  },
  {
   "cell_type": "code",
   "execution_count": 84,
   "metadata": {},
   "outputs": [
    {
     "name": "stdout",
     "output_type": "stream",
     "text": [
      "$150,000,000 (estimated)\n"
     ]
    }
   ],
   "source": [
    "# budget_estimated\n",
    "for con in movie_div:\n",
    "   budget = con.find('ul', class_=\"ipc-metadata-list ipc-metadata-list--dividers-none ipc-metadata-list--compact sc-6d4f3f8c-0 VdkJY ipc-metadata-list--base\").find_all('span', class_=\"ipc-metadata-list-item__list-content-item\")[0].text\n",
    "   print(budget)"
   ]
  },
  {
   "cell_type": "code",
   "execution_count": 85,
   "metadata": {},
   "outputs": [
    {
     "name": "stdout",
     "output_type": "stream",
     "text": [
      "$1,284,540,518\n"
     ]
    }
   ],
   "source": [
    "#us_gross\n",
    "for con in movie_div:\n",
    "    gross = con.find('ul', class_=\"ipc-metadata-list ipc-metadata-list--dividers-none ipc-metadata-list--compact sc-6d4f3f8c-0 VdkJY ipc-metadata-list--base\").find_all('span', class_=\"ipc-metadata-list-item__list-content-item\")[-1].text\n",
    "    print(gross)"
   ]
  }
 ],
 "metadata": {
  "kernelspec": {
   "display_name": "base",
   "language": "python",
   "name": "python3"
  },
  "language_info": {
   "codemirror_mode": {
    "name": "ipython",
    "version": 3
   },
   "file_extension": ".py",
   "mimetype": "text/x-python",
   "name": "python",
   "nbconvert_exporter": "python",
   "pygments_lexer": "ipython3",
   "version": "3.10.9"
  },
  "orig_nbformat": 4
 },
 "nbformat": 4,
 "nbformat_minor": 2
}
